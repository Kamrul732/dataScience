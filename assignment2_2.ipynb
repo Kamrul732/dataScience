{
  "nbformat": 4,
  "nbformat_minor": 0,
  "metadata": {
    "colab": {
      "provenance": [],
      "authorship_tag": "ABX9TyN9uZ8Mm4mHMkvtgqe+Aj7b",
      "include_colab_link": true
    },
    "kernelspec": {
      "name": "python3",
      "display_name": "Python 3"
    },
    "language_info": {
      "name": "python"
    }
  },
  "cells": [
    {
      "cell_type": "markdown",
      "metadata": {
        "id": "view-in-github",
        "colab_type": "text"
      },
      "source": [
        "<a href=\"https://colab.research.google.com/github/Kamrul732/dataScience/blob/assignment2/assignment2_2.ipynb\" target=\"_parent\"><img src=\"https://colab.research.google.com/assets/colab-badge.svg\" alt=\"Open In Colab\"/></a>"
      ]
    },
    {
      "cell_type": "markdown",
      "source": [
        "2. Even or Odd: Write a Python program that takes an integer as input and prints whether it is even or odd."
      ],
      "metadata": {
        "id": "83GwX5bhM1DJ"
      }
    },
    {
      "cell_type": "code",
      "execution_count": 8,
      "metadata": {
        "colab": {
          "base_uri": "https://localhost:8080/"
        },
        "id": "GuhVG5NUMcA9",
        "outputId": "c5547572-254a-4025-b332-db85426e7d2d"
      },
      "outputs": [
        {
          "output_type": "stream",
          "name": "stdout",
          "text": [
            " Enter a Number34\n",
            "Number is Even 34\n"
          ]
        }
      ],
      "source": [
        "Number = int (input (\" Enter a Number\"))\n",
        "\n",
        "if Number % 2 == 0:\n",
        "  print(\"Number is Even\",Number)\n",
        "else:\n",
        "  print(\"Number is Odd\",Number)"
      ]
    }
  ]
}