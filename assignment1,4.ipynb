{
  "nbformat": 4,
  "nbformat_minor": 0,
  "metadata": {
    "colab": {
      "provenance": [],
      "authorship_tag": "ABX9TyNH7EM1huwFVBRiLKc93/g+",
      "include_colab_link": true
    },
    "kernelspec": {
      "name": "python3",
      "display_name": "Python 3"
    },
    "language_info": {
      "name": "python"
    }
  },
  "cells": [
    {
      "cell_type": "markdown",
      "metadata": {
        "id": "view-in-github",
        "colab_type": "text"
      },
      "source": [
        "<a href=\"https://colab.research.google.com/github/Kamrul732/dataScience/blob/assignment1/assignment1%2C4.ipynb\" target=\"_parent\"><img src=\"https://colab.research.google.com/assets/colab-badge.svg\" alt=\"Open In Colab\"/></a>"
      ]
    },
    {
      "cell_type": "markdown",
      "source": [
        "4.Write a program that calculates the volume of a sphere given its radius."
      ],
      "metadata": {
        "id": "myf_BueBdHZ3"
      }
    },
    {
      "cell_type": "code",
      "source": [
        "import math\n",
        "def calculate_sphere_volume(radius):\n",
        "    volume = (4/3) * math.pi * radius**3\n",
        "    return volume\n",
        "\n",
        "radius = 5\n",
        "volume = calculate_sphere_volume(radius)\n",
        "\n",
        "print(\"The volume of the sphere with radius units is\",volume)\n"
      ],
      "metadata": {
        "colab": {
          "base_uri": "https://localhost:8080/"
        },
        "id": "QSiQMIYJdN-T",
        "outputId": "fe7a1951-3932-483f-c897-c11c55b89012"
      },
      "execution_count": null,
      "outputs": [
        {
          "output_type": "stream",
          "name": "stdout",
          "text": [
            "The volume of the sphere with radius units is 523.5987755982989\n"
          ]
        }
      ]
    }
  ]
}