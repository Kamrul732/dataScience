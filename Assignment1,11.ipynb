{
  "nbformat": 4,
  "nbformat_minor": 0,
  "metadata": {
    "colab": {
      "provenance": [],
      "authorship_tag": "ABX9TyMwZfRzf2C7U5mCwYObsQKn",
      "include_colab_link": true
    },
    "kernelspec": {
      "name": "python3",
      "display_name": "Python 3"
    },
    "language_info": {
      "name": "python"
    }
  },
  "cells": [
    {
      "cell_type": "markdown",
      "metadata": {
        "id": "view-in-github",
        "colab_type": "text"
      },
      "source": [
        "<a href=\"https://colab.research.google.com/github/Kamrul732/dataScience/blob/assignment1/Assignment1%2C11.ipynb\" target=\"_parent\"><img src=\"https://colab.research.google.com/assets/colab-badge.svg\" alt=\"Open In Colab\"/></a>"
      ]
    },
    {
      "cell_type": "markdown",
      "source": [
        "11.Write a program that prints the first `n` natural numbers."
      ],
      "metadata": {
        "id": "McKvw-JjtiEI"
      }
    },
    {
      "cell_type": "code",
      "execution_count": null,
      "metadata": {
        "colab": {
          "base_uri": "https://localhost:8080/"
        },
        "id": "C4SbnvMItcD2",
        "outputId": "66dd21bf-d49f-434e-e9ff-400646e5c56f"
      },
      "outputs": [
        {
          "output_type": "stream",
          "name": "stdout",
          "text": [
            "Natural numbers are:\n",
            "1 2 3 4 5 6 7 8 9 10 11 12 13 14 15 "
          ]
        }
      ],
      "source": [
        "def natural_numbers(n):\n",
        "    for i in range(1, n + 1):\n",
        "        print(i, end=' ')\n",
        "n = 15\n",
        "print(\"Natural numbers are:\")\n",
        "natural_numbers(n)"
      ]
    }
  ]
}