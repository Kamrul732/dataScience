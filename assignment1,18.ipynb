{
  "nbformat": 4,
  "nbformat_minor": 0,
  "metadata": {
    "colab": {
      "provenance": [],
      "authorship_tag": "ABX9TyPMnPHcK385VCAQfP2xt+nl",
      "include_colab_link": true
    },
    "kernelspec": {
      "name": "python3",
      "display_name": "Python 3"
    },
    "language_info": {
      "name": "python"
    }
  },
  "cells": [
    {
      "cell_type": "markdown",
      "metadata": {
        "id": "view-in-github",
        "colab_type": "text"
      },
      "source": [
        "<a href=\"https://colab.research.google.com/github/Kamrul732/dataScience/blob/assignment1/assignment1%2C18.ipynb\" target=\"_parent\"><img src=\"https://colab.research.google.com/assets/colab-badge.svg\" alt=\"Open In Colab\"/></a>"
      ]
    },
    {
      "cell_type": "markdown",
      "source": [
        "18.Write a program that checks if a given string, is a palindrome."
      ],
      "metadata": {
        "id": "GzujOYzqUn-f"
      }
    },
    {
      "cell_type": "code",
      "execution_count": null,
      "metadata": {
        "colab": {
          "base_uri": "https://localhost:8080/"
        },
        "id": "GhKdXSvgUd-t",
        "outputId": "a8b29643-6a50-4e56-85ab-36fac8b06d53"
      },
      "outputs": [
        {
          "output_type": "stream",
          "name": "stdout",
          "text": [
            "this is a palindrome. tenet\n"
          ]
        }
      ],
      "source": [
        "def is_palindrome(s):\n",
        "    cleaned_string = ''.join(s.split()).lower()\n",
        "    return cleaned_string == cleaned_string[::-1]\n",
        "\n",
        "check = \"tenet\"\n",
        "if is_palindrome(check):\n",
        "    print(\"this is a palindrome.\",check)\n",
        "else:\n",
        "    print(\" this is not a palindrome.\",check)\n"
      ]
    }
  ]
}