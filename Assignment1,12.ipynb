{
  "nbformat": 4,
  "nbformat_minor": 0,
  "metadata": {
    "colab": {
      "provenance": [],
      "authorship_tag": "ABX9TyNqABrxHpcf+OUcVChaa/Mh",
      "include_colab_link": true
    },
    "kernelspec": {
      "name": "python3",
      "display_name": "Python 3"
    },
    "language_info": {
      "name": "python"
    }
  },
  "cells": [
    {
      "cell_type": "markdown",
      "metadata": {
        "id": "view-in-github",
        "colab_type": "text"
      },
      "source": [
        "<a href=\"https://colab.research.google.com/github/Kamrul732/dataScience/blob/assignment1/Assignment1%2C12.ipynb\" target=\"_parent\"><img src=\"https://colab.research.google.com/assets/colab-badge.svg\" alt=\"Open In Colab\"/></a>"
      ]
    },
    {
      "cell_type": "markdown",
      "source": [
        "13. Write a program that generates a Fibonacci sequence of length `n`."
      ],
      "metadata": {
        "id": "1m7jVLRpwn2-"
      }
    },
    {
      "cell_type": "code",
      "execution_count": null,
      "metadata": {
        "colab": {
          "base_uri": "https://localhost:8080/"
        },
        "id": "ahbWtagjwlS2",
        "outputId": "9e3eabe3-38d5-40a8-843a-9b47e41d72be"
      },
      "outputs": [
        {
          "output_type": "stream",
          "name": "stdout",
          "text": [
            "The Fibonacci series of length  is: 7\n",
            "[0, 1, 1, 2, 3, 5, 8]\n"
          ]
        }
      ],
      "source": [
        "def fibonacci(n):\n",
        "    fibonacci_series = []\n",
        "    a, b = 0, 1\n",
        "    while len(fibonacci_series) < n:\n",
        "        fibonacci_series.append(a)\n",
        "        a, b = b, a + b\n",
        "    return fibonacci_series\n",
        "n = 7\n",
        "sequence = fibonacci(n)\n",
        "\n",
        "print(\"The Fibonacci series of length  is:\",n)\n",
        "print(sequence)\n"
      ]
    }
  ]
}