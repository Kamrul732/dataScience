{
  "nbformat": 4,
  "nbformat_minor": 0,
  "metadata": {
    "colab": {
      "provenance": [],
      "authorship_tag": "ABX9TyOZqJLylKErTzCb6ycFjRLc",
      "include_colab_link": true
    },
    "kernelspec": {
      "name": "python3",
      "display_name": "Python 3"
    },
    "language_info": {
      "name": "python"
    }
  },
  "cells": [
    {
      "cell_type": "markdown",
      "metadata": {
        "id": "view-in-github",
        "colab_type": "text"
      },
      "source": [
        "<a href=\"https://colab.research.google.com/github/Kamrul732/dataScience/blob/assignment1/assignment1%2C3.ipynb\" target=\"_parent\"><img src=\"https://colab.research.google.com/assets/colab-badge.svg\" alt=\"Open In Colab\"/></a>"
      ]
    },
    {
      "cell_type": "markdown",
      "source": [
        "3.Write a program that converts temperature from Fahrenheit to Celsius."
      ],
      "metadata": {
        "id": "6wIjgoLdbZB2"
      }
    },
    {
      "cell_type": "code",
      "execution_count": null,
      "metadata": {
        "colab": {
          "base_uri": "https://localhost:8080/"
        },
        "id": "_RWFD_kIaxUS",
        "outputId": "4608589c-14b9-43ce-92b7-4062536f7f43"
      },
      "outputs": [
        {
          "output_type": "stream",
          "name": "stdout",
          "text": [
            "the celsius is  38.888888888888886\n"
          ]
        }
      ],
      "source": [
        "def f_to_c(fahrenheit):\n",
        "    celsius = (fahrenheit - 32) * 5.0 / 9.0\n",
        "    return celsius\n",
        "\n",
        "fahrenheit = 102\n",
        "celsius = f_to_c(fahrenheit)\n",
        "\n",
        "print(\"the celsius is \",celsius)\n"
      ]
    }
  ]
}