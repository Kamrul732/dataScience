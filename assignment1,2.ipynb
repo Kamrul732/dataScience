{
  "nbformat": 4,
  "nbformat_minor": 0,
  "metadata": {
    "colab": {
      "provenance": [],
      "authorship_tag": "ABX9TyMxiVfkdae1bJ4WCuQWfh4Z",
      "include_colab_link": true
    },
    "kernelspec": {
      "name": "python3",
      "display_name": "Python 3"
    },
    "language_info": {
      "name": "python"
    }
  },
  "cells": [
    {
      "cell_type": "markdown",
      "metadata": {
        "id": "view-in-github",
        "colab_type": "text"
      },
      "source": [
        "<a href=\"https://colab.research.google.com/github/Kamrul732/dataScience/blob/assignment1/assignment1%2C2.ipynb\" target=\"_parent\"><img src=\"https://colab.research.google.com/assets/colab-badge.svg\" alt=\"Open In Colab\"/></a>"
      ]
    },
    {
      "cell_type": "markdown",
      "source": [
        "2.Write a program that calculates the area of a rectangle given its length and width."
      ],
      "metadata": {
        "id": "iyuMeuI_XUhR"
      }
    },
    {
      "cell_type": "code",
      "execution_count": null,
      "metadata": {
        "colab": {
          "base_uri": "https://localhost:8080/"
        },
        "id": "ECI-vKbWXKYW",
        "outputId": "6a03f6c2-12f1-467a-e620-da970cba4470"
      },
      "outputs": [
        {
          "output_type": "stream",
          "name": "stdout",
          "text": [
            "The area of the rectangle is  30\n"
          ]
        }
      ],
      "source": [
        "def calculate_area(x,y):\n",
        "  return x*y\n",
        "x = 5\n",
        "y = 6\n",
        "\n",
        "area = calculate_area(x,y)\n",
        "\n",
        "print(\"The area of the rectangle is \",area)"
      ]
    }
  ]
}