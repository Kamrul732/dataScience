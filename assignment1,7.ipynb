{
  "nbformat": 4,
  "nbformat_minor": 0,
  "metadata": {
    "colab": {
      "provenance": [],
      "authorship_tag": "ABX9TyOCRCspaOgeuiZbTNOGOSML",
      "include_colab_link": true
    },
    "kernelspec": {
      "name": "python3",
      "display_name": "Python 3"
    },
    "language_info": {
      "name": "python"
    }
  },
  "cells": [
    {
      "cell_type": "markdown",
      "metadata": {
        "id": "view-in-github",
        "colab_type": "text"
      },
      "source": [
        "<a href=\"https://colab.research.google.com/github/Kamrul732/dataScience/blob/assignment1/assignment1%2C7.ipynb\" target=\"_parent\"><img src=\"https://colab.research.google.com/assets/colab-badge.svg\" alt=\"Open In Colab\"/></a>"
      ]
    },
    {
      "cell_type": "markdown",
      "source": [
        "7.Write a program that finds the maximum of three numbers."
      ],
      "metadata": {
        "id": "_DlT2_tmfl4t"
      }
    },
    {
      "cell_type": "code",
      "execution_count": null,
      "metadata": {
        "colab": {
          "base_uri": "https://localhost:8080/"
        },
        "id": "WcCB5FlLfiD1",
        "outputId": "e939daa2-61ce-4a94-edb9-706fd7da0fa7"
      },
      "outputs": [
        {
          "output_type": "stream",
          "name": "stdout",
          "text": [
            "The maximum number 70\n"
          ]
        }
      ],
      "source": [
        "def find_maximum(num1, num2, num3):\n",
        "    return max(num1, num2, num3)\n",
        "\n",
        "num1 = 20\n",
        "num2 = 70\n",
        "num3 = 50\n",
        "maximum = find_maximum(num1, num2, num3)\n",
        "\n",
        "print(\"The maximum number\",maximum)\n"
      ]
    }
  ]
}