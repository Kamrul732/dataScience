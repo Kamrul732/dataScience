{
  "nbformat": 4,
  "nbformat_minor": 0,
  "metadata": {
    "colab": {
      "provenance": [],
      "authorship_tag": "ABX9TyO73sEbBzz6Xg5UoqgwEorB",
      "include_colab_link": true
    },
    "kernelspec": {
      "name": "python3",
      "display_name": "Python 3"
    },
    "language_info": {
      "name": "python"
    }
  },
  "cells": [
    {
      "cell_type": "markdown",
      "metadata": {
        "id": "view-in-github",
        "colab_type": "text"
      },
      "source": [
        "<a href=\"https://colab.research.google.com/github/Kamrul732/dataScience/blob/assignment1/assignment1%2C16.ipynb\" target=\"_parent\"><img src=\"https://colab.research.google.com/assets/colab-badge.svg\" alt=\"Open In Colab\"/></a>"
      ]
    },
    {
      "cell_type": "markdown",
      "source": [
        "16. Write a program that finds the sum of all even numbers between 1 and `n`."
      ],
      "metadata": {
        "id": "h6fTh3RETfOw"
      }
    },
    {
      "cell_type": "code",
      "execution_count": null,
      "metadata": {
        "colab": {
          "base_uri": "https://localhost:8080/"
        },
        "id": "bBpwbovkTehg",
        "outputId": "63e1ef84-9299-4ebf-d5f6-aeddd79b5f08"
      },
      "outputs": [
        {
          "output_type": "stream",
          "name": "stdout",
          "text": [
            "The sum of all even numbers  42\n"
          ]
        }
      ],
      "source": [
        "def sum_of_even_numbers(n):\n",
        "    total_sum = 0\n",
        "    for number in range(2, n + 1, 2):\n",
        "        total_sum += number\n",
        "    return total_sum\n",
        "\n",
        "n = 12\n",
        "result = sum_of_even_numbers(n)\n",
        "\n",
        "print(\"The sum of all even numbers \",result)\n"
      ]
    }
  ]
}