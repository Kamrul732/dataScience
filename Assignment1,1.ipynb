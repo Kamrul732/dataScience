{
  "nbformat": 4,
  "nbformat_minor": 0,
  "metadata": {
    "colab": {
      "provenance": [],
      "toc_visible": true,
      "authorship_tag": "ABX9TyMzaqZ7MHbGHAXFUKjpGfeM",
      "include_colab_link": true
    },
    "kernelspec": {
      "name": "python3",
      "display_name": "Python 3"
    },
    "language_info": {
      "name": "python"
    }
  },
  "cells": [
    {
      "cell_type": "markdown",
      "metadata": {
        "id": "view-in-github",
        "colab_type": "text"
      },
      "source": [
        "<a href=\"https://colab.research.google.com/github/Kamrul732/dataScience/blob/main/Assignment1%2C1.ipynb\" target=\"_parent\"><img src=\"https://colab.research.google.com/assets/colab-badge.svg\" alt=\"Open In Colab\"/></a>"
      ]
    },
    {
      "cell_type": "code",
      "execution_count": null,
      "metadata": {
        "id": "IqXid6TAW5ys"
      },
      "outputs": [],
      "source": [
        "1.Write a program that swaps the values of two variables."
      ]
    },
    {
      "cell_type": "markdown",
      "source": [],
      "metadata": {
        "id": "iy8mCM7ZW6TG"
      }
    },
    {
      "cell_type": "code",
      "source": [
        "x = input('Enter value of x : ')\n",
        "y = input('Enter value of Y : ')\n",
        "\n",
        "temp = x\n",
        "x= y\n",
        "y = temp\n",
        "\n",
        "print('The value of x after swapping',x)\n",
        "print('The value of y after swapping',y)"
      ],
      "metadata": {
        "colab": {
          "base_uri": "https://localhost:8080/"
        },
        "id": "ytK0BUV-W-an",
        "outputId": "18169670-c2de-459d-ae44-8f04f4982f65"
      },
      "execution_count": null,
      "outputs": [
        {
          "output_type": "stream",
          "name": "stdout",
          "text": [
            "Enter value of x : 1\n",
            "Enter value of Y : 2\n",
            "The value of x after swapping 2\n",
            "The value of y after swapping 1\n"
          ]
        }
      ]
    }
  ]
}