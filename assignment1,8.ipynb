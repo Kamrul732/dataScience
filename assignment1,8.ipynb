{
  "nbformat": 4,
  "nbformat_minor": 0,
  "metadata": {
    "colab": {
      "provenance": [],
      "authorship_tag": "ABX9TyMMKEVN94bPIHdmdWzkLeUX",
      "include_colab_link": true
    },
    "kernelspec": {
      "name": "python3",
      "display_name": "Python 3"
    },
    "language_info": {
      "name": "python"
    }
  },
  "cells": [
    {
      "cell_type": "markdown",
      "metadata": {
        "id": "view-in-github",
        "colab_type": "text"
      },
      "source": [
        "<a href=\"https://colab.research.google.com/github/Kamrul732/dataScience/blob/assignment1/assignment1%2C8.ipynb\" target=\"_parent\"><img src=\"https://colab.research.google.com/assets/colab-badge.svg\" alt=\"Open In Colab\"/></a>"
      ]
    },
    {
      "cell_type": "markdown",
      "source": [
        "8.Write a program that determines if a year is a leap year or not."
      ],
      "metadata": {
        "id": "Y379EO8YjzzP"
      }
    },
    {
      "cell_type": "code",
      "source": [
        "def leap_year(year):\n",
        "    if (year % 4 == 0 and year % 100 != 0) or (year % 400 == 0):\n",
        "        return True\n",
        "    else:\n",
        "        return False\n",
        "year = 2018\n",
        "if leap_year(year):\n",
        "    print(\" is a leap year\",year)\n",
        "else:\n",
        "    print(\"is not a leap year\",year)\n"
      ],
      "metadata": {
        "colab": {
          "base_uri": "https://localhost:8080/"
        },
        "id": "7thbSdtmkqfG",
        "outputId": "f644ccef-454c-4bd7-a54e-e1f2d79abade"
      },
      "execution_count": null,
      "outputs": [
        {
          "output_type": "stream",
          "name": "stdout",
          "text": [
            "is not a leap year 2018\n"
          ]
        }
      ]
    }
  ]
}