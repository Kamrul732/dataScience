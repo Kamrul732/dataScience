{
  "nbformat": 4,
  "nbformat_minor": 0,
  "metadata": {
    "colab": {
      "provenance": [],
      "authorship_tag": "ABX9TyPnU2GNrvUkT2ygSaA64fzU",
      "include_colab_link": true
    },
    "kernelspec": {
      "name": "python3",
      "display_name": "Python 3"
    },
    "language_info": {
      "name": "python"
    }
  },
  "cells": [
    {
      "cell_type": "markdown",
      "metadata": {
        "id": "view-in-github",
        "colab_type": "text"
      },
      "source": [
        "<a href=\"https://colab.research.google.com/github/Kamrul732/dataScience/blob/assignment1/assignment1%2C10.ipynb\" target=\"_parent\"><img src=\"https://colab.research.google.com/assets/colab-badge.svg\" alt=\"Open In Colab\"/></a>"
      ]
    },
    {
      "cell_type": "markdown",
      "source": [
        "10. Write a program that calculates the grade based on a given percentage."
      ],
      "metadata": {
        "id": "_3kHrOOQnRrE"
      }
    },
    {
      "cell_type": "code",
      "execution_count": null,
      "metadata": {
        "colab": {
          "base_uri": "https://localhost:8080/"
        },
        "id": "gOerzVDLnQ0t",
        "outputId": "bf72fef4-d9d0-4dc2-d0cc-b7996dd549a8"
      },
      "outputs": [
        {
          "output_type": "stream",
          "name": "stdout",
          "text": [
            "The result is  C\n"
          ]
        }
      ],
      "source": [
        "def grade(number):\n",
        "    if number >= 90:\n",
        "        return \"A\"\n",
        "    elif number >= 80:\n",
        "        return \"B\"\n",
        "    elif number >= 70:\n",
        "        return \"C\"\n",
        "    elif number >= 60:\n",
        "        return \"D\"\n",
        "    else:\n",
        "        return \"F\"\n",
        "number = 78\n",
        "result = grade(number)\n",
        "\n",
        "print(\"The result is \",result)\n"
      ]
    }
  ]
}