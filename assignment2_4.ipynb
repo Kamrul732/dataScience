{
  "nbformat": 4,
  "nbformat_minor": 0,
  "metadata": {
    "colab": {
      "provenance": [],
      "authorship_tag": "ABX9TyOX9cRfvMlhqNIose2RyUjI",
      "include_colab_link": true
    },
    "kernelspec": {
      "name": "python3",
      "display_name": "Python 3"
    },
    "language_info": {
      "name": "python"
    }
  },
  "cells": [
    {
      "cell_type": "markdown",
      "metadata": {
        "id": "view-in-github",
        "colab_type": "text"
      },
      "source": [
        "<a href=\"https://colab.research.google.com/github/Kamrul732/dataScience/blob/assignment2/assignment2_4.ipynb\" target=\"_parent\"><img src=\"https://colab.research.google.com/assets/colab-badge.svg\" alt=\"Open In Colab\"/></a>"
      ]
    },
    {
      "cell_type": "markdown",
      "source": [
        "4. Type Conversion: Given a list of integers, write a Python program to convert each element of the list to a string.\n",
        "\n"
      ],
      "metadata": {
        "id": "gQScz2U26tgU"
      }
    },
    {
      "cell_type": "code",
      "execution_count": 3,
      "metadata": {
        "colab": {
          "base_uri": "https://localhost:8080/"
        },
        "id": "fDUKBJLy6pM3",
        "outputId": "a8c00cec-3005-433c-8e95-69c1923c80c1"
      },
      "outputs": [
        {
          "output_type": "stream",
          "name": "stdout",
          "text": [
            "['11', '14', '16', '17', '28', '29', '45']\n"
          ]
        }
      ],
      "source": [
        "list_integer = [11,14,16,17,28,29,45]\n",
        "\n",
        "convert_to_string = [str(x) for x in list_integer]\n",
        "\n",
        "print(convert_to_string)\n"
      ]
    },
    {
      "cell_type": "markdown",
      "source": [],
      "metadata": {
        "id": "LJCcwf4Z6siG"
      }
    }
  ]
}