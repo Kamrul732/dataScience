{
  "nbformat": 4,
  "nbformat_minor": 0,
  "metadata": {
    "colab": {
      "provenance": [],
      "authorship_tag": "ABX9TyNNnTTB9f11mSDI73PxXvj1",
      "include_colab_link": true
    },
    "kernelspec": {
      "name": "python3",
      "display_name": "Python 3"
    },
    "language_info": {
      "name": "python"
    }
  },
  "cells": [
    {
      "cell_type": "markdown",
      "metadata": {
        "id": "view-in-github",
        "colab_type": "text"
      },
      "source": [
        "<a href=\"https://colab.research.google.com/github/Kamrul732/dataScience/blob/assignment1/assignment1%2C5.ipynb\" target=\"_parent\"><img src=\"https://colab.research.google.com/assets/colab-badge.svg\" alt=\"Open In Colab\"/></a>"
      ]
    },
    {
      "cell_type": "markdown",
      "source": [
        "5.Write a program that finds the average of three numbers."
      ],
      "metadata": {
        "id": "goYJy2_deD_8"
      }
    },
    {
      "cell_type": "code",
      "source": [
        "\n",
        "num1 = 10\n",
        "num2 = 40\n",
        "num3 = 30\n",
        "average = (num1 + num2 + num3) / 3\n",
        "\n",
        "print(\"The average of three number\",average)\n"
      ],
      "metadata": {
        "colab": {
          "base_uri": "https://localhost:8080/"
        },
        "id": "m3p0ax-leNoU",
        "outputId": "298beef1-b775-4eee-a4c5-1359a46a0ba4"
      },
      "execution_count": null,
      "outputs": [
        {
          "output_type": "stream",
          "name": "stdout",
          "text": [
            "The average of three number 26.666666666666668\n"
          ]
        }
      ]
    }
  ]
}